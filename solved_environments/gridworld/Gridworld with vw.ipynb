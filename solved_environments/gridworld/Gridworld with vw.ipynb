{
 "cells": [
  {
   "cell_type": "markdown",
   "metadata": {},
   "source": [
    "# Temporal - Difference (Q) learning for game of Gridworld with VW\n",
    "\n",
    "We are using vw for value estimate.\n",
    "Environment returns only win (20), lose(-20) or -1 (no continuous reward)\n",
    "\n",
    "Design matrix is simple sparse representation of state and objects with interactions with action.\n",
    "Gridworld (4x4 grid, 4 objects - player, wall, win, pit) - possible states (when all objects can be initialized randomly) 24P4=500k)\n",
    "\n",
    "Summary so far:\n",
    "Trained Model wins about 99% of games\n",
    "Vs Random model wins 30% of games"
   ]
  },
  {
   "cell_type": "code",
   "execution_count": 7,
   "metadata": {
    "collapsed": false
   },
   "outputs": [],
   "source": [
    "# Need /game_playing in path\n",
    "import os,sys,inspect\n",
    "currentdir = os.path.dirname(os.path.abspath(inspect.getfile(inspect.currentframe())))\n",
    "parentdir = os.path.dirname(os.path.dirname(currentdir))\n",
    "sys.path.insert(0,parentdir)"
   ]
  },
  {
   "cell_type": "code",
   "execution_count": 8,
   "metadata": {
    "collapsed": false
   },
   "outputs": [],
   "source": [
    "from rl_learning import RLAgent\n",
    "from bandits import BanditAlgorithm"
   ]
  },
  {
   "cell_type": "code",
   "execution_count": 22,
   "metadata": {
    "collapsed": false
   },
   "outputs": [
    {
     "name": "stdout",
     "output_type": "stream",
     "text": [
      "---------- Testing policy:-----------\n",
      "Game #-----: 0\n",
      "   0  1 2  3\n",
      "0          +\n",
      "1     W     \n",
      "2          -\n",
      "3  P        \n",
      "  0  1 2  3\n",
      "0         +\n",
      "1    W     \n",
      "2         -\n",
      "3    P     \n",
      "  0  1  2  3\n",
      "0          +\n",
      "1    W      \n",
      "2          -\n",
      "3       P   \n",
      "  0  1  2  3\n",
      "0          +\n",
      "1    W      \n",
      "2       P  -\n",
      "3           \n",
      "  0  1  2  3\n",
      "0          +\n",
      "1    W  P   \n",
      "2          -\n",
      "3           \n",
      "  0  1  2  3\n",
      "0       P  +\n",
      "1    W      \n",
      "2          -\n",
      "3           \n",
      "Player WINS!\n",
      "Game #-----: 1\n",
      "   0 1 2  3\n",
      "0  +       \n",
      "1         P\n",
      "2  -       \n",
      "3         W\n",
      "   0 1  2  3\n",
      "0  +        \n",
      "1       P   \n",
      "2  -        \n",
      "3          W\n",
      "   0  1 2  3\n",
      "0  +        \n",
      "1     P     \n",
      "2  -        \n",
      "3          W\n",
      "   0  1 2  3\n",
      "0  +  P     \n",
      "1           \n",
      "2  -        \n",
      "3          W\n",
      "Player WINS!\n",
      "elapsed time:0\n",
      "Game #-----: 0\n",
      "Player LOSES!\n",
      "Game #-----: 1\n",
      "Player LOSES!\n",
      "elapsed time:0\n",
      "{'random': Counter({'player loses': 2, 'avgerage_reward_per_episode': -22.0}), 'vw_python': Counter({'avgerage_reward_per_episode': 17.0, 'player wins': 2})}\n"
     ]
    }
   ],
   "source": [
    "from environments.gridworld import GridWorld\n",
    "env = GridWorld()\n",
    "\n",
    "# Params not required for testing\n",
    "rl_params = {'experience_replay_size': 200, 'batchsize': 20, 'gamma': 0.9, 'skip_frames': 1, 'max_steps': 30,\n",
    "             'minibatch_method': 'random', 'train_model_after_samples': 1}\n",
    "model_params = {'class': 'vw_python', 'base_folder_name': env.base_folder_name, 'loss_function': 'squared',\n",
    "                'l2': 0.0000000001, 'lrq': 'sdsd300', 'b': 20, 'l': 0.5}\n",
    "bandit_params = 0.9\n",
    "\n",
    "# Initialize RL agent\n",
    "rl_agent = RLAgent(experience_replay_size=rl_params['experience_replay_size'], batchsize=rl_params['batchsize'],\n",
    "                   gamma=rl_params['gamma'], skip_frames=rl_params['skip_frames'], max_steps=rl_params['max_steps'])\n",
    "\n",
    "rl_agent.initialize(model_params, bandit_params, test=True)\n",
    "stat = rl_agent.test_q_function(env, test_games=2, render=True)\n",
    "print stat"
   ]
  },
  {
   "cell_type": "code",
   "execution_count": null,
   "metadata": {
    "collapsed": true
   },
   "outputs": [],
   "source": []
  }
 ],
 "metadata": {
  "kernelspec": {
   "display_name": "Python 2",
   "language": "python",
   "name": "python2"
  },
  "language_info": {
   "codemirror_mode": {
    "name": "ipython",
    "version": 2
   },
   "file_extension": ".py",
   "mimetype": "text/x-python",
   "name": "python",
   "nbconvert_exporter": "python",
   "pygments_lexer": "ipython2",
   "version": "2.7.10"
  }
 },
 "nbformat": 4,
 "nbformat_minor": 0
}
