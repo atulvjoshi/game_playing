{
 "cells": [
  {
   "cell_type": "markdown",
   "metadata": {},
   "source": [
    "# Temporal - Difference (Q) learning for game of Gridworld with VW\n",
    "\n",
    "We are using vw for value estimate.. Seems to work really well when environment returns reward with every single move.\n",
    "Model still struggles in some configurations (doesn't reach win after 15 moves), may be more epochs help?\n",
    "Design matrix is simple sparse representation of state and objects with interactions with action.\n",
    "Gridworld (4x4 grid, 4 objects - player, wall, win, pit) - possible states (when all objects can be initialized randomly) 24P4=500k)\n",
    "\n",
    "Summary so far:\n",
    "Trained Model wins about 30% of games\n",
    "Vs Random model wins 1-2% of games"
   ]
  },
  {
   "cell_type": "code",
   "execution_count": 1,
   "metadata": {
    "collapsed": false
   },
   "outputs": [],
   "source": [
    "from games.gridworld.gridworld import GridWorld\n",
    "from bandits import BanditAlgorithm\n",
    "import pandas as pd\n",
    "import rl_learning as rl\n",
    "from IPython.display import display, HTML\n",
    "import cPickle as pickle"
   ]
  },
  {
   "cell_type": "code",
   "execution_count": 2,
   "metadata": {
    "collapsed": false
   },
   "outputs": [],
   "source": [
    "def test_training_TD_for_gridworld(model_class, epochs, train=True):\n",
    "    gridworld = GridWorld()\n",
    "    if train:\n",
    "        policy, model = rl.train_reinforcement_strategy_temporal_difference(epochs=epochs, game_obs=gridworld, model_class=model_class)\n",
    "\n",
    "def test_policy(game_obs, model=None):\n",
    "    print \"---------- Testing policy:-----------\"\n",
    "    banditAlgorithm = BanditAlgorithm(params=0.1)\n",
    "    game_obs.initiate_game()\n",
    "    print \"Initial state:\"\n",
    "    print game_obs.state\n",
    "    game_obs.display_grid()\n",
    "    move = 1\n",
    "\n",
    "    # Unpickle if model obs not provided\n",
    "    if not model:\n",
    "        model = pickle.load(open(game_obs.base_folder_name + '/model_obs.pkl', mode='rb'))\n",
    "\n",
    "    if model.model_class == 'vw_python':\n",
    "        from vowpal_wabbit import pyvw\n",
    "        model.model = pyvw.vw(\"--quiet -i {0}\".format(model.model_path))\n",
    "    while game_obs.game_status == 'in process':\n",
    "        new_qval_table = banditAlgorithm.return_decision_reward_tuples(game_obs.state, model, game_obs.all_possible_decisions)\n",
    "        best_action, value_estimate = banditAlgorithm.return_decision_with_max_reward(new_qval_table)\n",
    "        print('Move #: %s; Taking action: %s' % (move, best_action))\n",
    "        reward = game_obs.play(best_action)\n",
    "        print game_obs.state\n",
    "        game_obs.display_grid()\n",
    "        if game_obs.game_status != 'in process': print \"Summary: \" + game_obs.game_status + \" :Player Reward: \" + str(reward)\n",
    "        move += 1\n",
    "\n",
    "        if move > 15:\n",
    "            print \"Too many moves\"\n",
    "            break"
   ]
  },
  {
   "cell_type": "code",
   "execution_count": 3,
   "metadata": {
    "collapsed": false
   },
   "outputs": [],
   "source": [
    "#test_training_TD_for_gridworld(model_class='vw_python', epochs=10000, train=True)"
   ]
  },
  {
   "cell_type": "code",
   "execution_count": 13,
   "metadata": {
    "collapsed": false
   },
   "outputs": [
    {
     "name": "stdout",
     "output_type": "stream",
     "text": [
      "---------- Testing policy:-----------\n",
      "Initial state:\n",
      "(coordinates(x=1, y=0), coordinates(x=2, y=3), coordinates(x=3, y=0), coordinates(x=0, y=3))\n",
      "   0 1 2  3\n",
      "0         +\n",
      "1  P       \n",
      "2         W\n",
      "3  -       \n",
      "Move #: 1; Taking action: right\n",
      "(coordinates(x=1, y=1), coordinates(x=2, y=3), coordinates(x=3, y=0), coordinates(x=0, y=3))\n",
      "   0  1 2  3\n",
      "0          +\n",
      "1     P     \n",
      "2          W\n",
      "3  -        \n",
      "Move #: 2; Taking action: right\n",
      "(coordinates(x=1, y=2), coordinates(x=2, y=3), coordinates(x=3, y=0), coordinates(x=0, y=3))\n",
      "   0 1  2  3\n",
      "0          +\n",
      "1       P   \n",
      "2          W\n",
      "3  -        \n",
      "Move #: 3; Taking action: up\n",
      "(coordinates(x=0, y=2), coordinates(x=2, y=3), coordinates(x=3, y=0), coordinates(x=0, y=3))\n",
      "   0 1  2  3\n",
      "0       P  +\n",
      "1           \n",
      "2          W\n",
      "3  -        \n",
      "Move #: 4; Taking action: left\n",
      "(coordinates(x=0, y=1), coordinates(x=2, y=3), coordinates(x=3, y=0), coordinates(x=0, y=3))\n",
      "   0  1 2  3\n",
      "0     P    +\n",
      "1           \n",
      "2          W\n",
      "3  -        \n",
      "Move #: 5; Taking action: down\n",
      "(coordinates(x=1, y=1), coordinates(x=2, y=3), coordinates(x=3, y=0), coordinates(x=0, y=3))\n",
      "   0  1 2  3\n",
      "0          +\n",
      "1     P     \n",
      "2          W\n",
      "3  -        \n",
      "Move #: 6; Taking action: down\n",
      "(coordinates(x=2, y=1), coordinates(x=2, y=3), coordinates(x=3, y=0), coordinates(x=0, y=3))\n",
      "   0  1 2  3\n",
      "0          +\n",
      "1           \n",
      "2     P    W\n",
      "3  -        \n",
      "Move #: 7; Taking action: right\n",
      "(coordinates(x=2, y=2), coordinates(x=2, y=3), coordinates(x=3, y=0), coordinates(x=0, y=3))\n",
      "   0 1  2  3\n",
      "0          +\n",
      "1           \n",
      "2       P  W\n",
      "3  -        \n",
      "Move #: 8; Taking action: right\n",
      "(coordinates(x=2, y=2), coordinates(x=2, y=3), coordinates(x=3, y=0), coordinates(x=0, y=3))\n",
      "   0 1  2  3\n",
      "0          +\n",
      "1           \n",
      "2       P  W\n",
      "3  -        \n",
      "Move #: 9; Taking action: down\n",
      "(coordinates(x=3, y=2), coordinates(x=2, y=3), coordinates(x=3, y=0), coordinates(x=0, y=3))\n",
      "   0 1  2  3\n",
      "0          +\n",
      "1           \n",
      "2          W\n",
      "3  -    P   \n",
      "Move #: 10; Taking action: up\n",
      "(coordinates(x=2, y=2), coordinates(x=2, y=3), coordinates(x=3, y=0), coordinates(x=0, y=3))\n",
      "   0 1  2  3\n",
      "0          +\n",
      "1           \n",
      "2       P  W\n",
      "3  -        \n",
      "Move #: 11; Taking action: down\n",
      "(coordinates(x=3, y=2), coordinates(x=2, y=3), coordinates(x=3, y=0), coordinates(x=0, y=3))\n",
      "   0 1  2  3\n",
      "0          +\n",
      "1           \n",
      "2          W\n",
      "3  -    P   \n",
      "Move #: 12; Taking action: up\n",
      "(coordinates(x=2, y=2), coordinates(x=2, y=3), coordinates(x=3, y=0), coordinates(x=0, y=3))\n",
      "   0 1  2  3\n",
      "0          +\n",
      "1           \n",
      "2       P  W\n",
      "3  -        \n",
      "Move #: 13; Taking action: down\n",
      "(coordinates(x=3, y=2), coordinates(x=2, y=3), coordinates(x=3, y=0), coordinates(x=0, y=3))\n",
      "   0 1  2  3\n",
      "0          +\n",
      "1           \n",
      "2          W\n",
      "3  -    P   \n",
      "Move #: 14; Taking action: up\n",
      "(coordinates(x=2, y=2), coordinates(x=2, y=3), coordinates(x=3, y=0), coordinates(x=0, y=3))\n",
      "   0 1  2  3\n",
      "0          +\n",
      "1           \n",
      "2       P  W\n",
      "3  -        \n",
      "Move #: 15; Taking action: down\n",
      "(coordinates(x=3, y=2), coordinates(x=2, y=3), coordinates(x=3, y=0), coordinates(x=0, y=3))\n",
      "   0 1  2  3\n",
      "0          +\n",
      "1           \n",
      "2          W\n",
      "3  -    P   \n",
      "Too many moves\n"
     ]
    }
   ],
   "source": [
    "gridworld = GridWorld()\n",
    "test_policy(gridworld)"
   ]
  },
  {
   "cell_type": "code",
   "execution_count": null,
   "metadata": {
    "collapsed": true
   },
   "outputs": [],
   "source": []
  },
  {
   "cell_type": "code",
   "execution_count": null,
   "metadata": {
    "collapsed": true
   },
   "outputs": [],
   "source": []
  }
 ],
 "metadata": {
  "kernelspec": {
   "display_name": "Python 2",
   "language": "python",
   "name": "python2"
  },
  "language_info": {
   "codemirror_mode": {
    "name": "ipython",
    "version": 2
   },
   "file_extension": ".py",
   "mimetype": "text/x-python",
   "name": "python",
   "nbconvert_exporter": "python",
   "pygments_lexer": "ipython2",
   "version": "2.7.10"
  }
 },
 "nbformat": 4,
 "nbformat_minor": 0
}
